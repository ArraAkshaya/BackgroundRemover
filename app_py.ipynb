{
  "nbformat": 4,
  "nbformat_minor": 0,
  "metadata": {
    "colab": {
      "provenance": []
    },
    "kernelspec": {
      "name": "python3",
      "display_name": "Python 3"
    },
    "language_info": {
      "name": "python"
    }
  },
  "cells": [
    {
      "cell_type": "code",
      "source": [
        "!pip install -q streamlit"
      ],
      "metadata": {
        "id": "T7nRLvcJXrGL"
      },
      "execution_count": 6,
      "outputs": []
    },
    {
      "cell_type": "code",
      "source": [
        "!pip install rembg"
      ],
      "metadata": {
        "colab": {
          "base_uri": "https://localhost:8080/"
        },
        "id": "aCsSGNHPXwmc",
        "outputId": "8861d6a9-59a6-40e1-9d63-76ba7dbe985f"
      },
      "execution_count": 4,
      "outputs": [
        {
          "output_type": "stream",
          "name": "stdout",
          "text": [
            "Collecting rembg\n",
            "  Downloading rembg-2.0.59-py3-none-any.whl.metadata (17 kB)\n",
            "Requirement already satisfied: jsonschema in /usr/local/lib/python3.10/dist-packages (from rembg) (4.23.0)\n",
            "Requirement already satisfied: numpy in /usr/local/lib/python3.10/dist-packages (from rembg) (1.26.4)\n",
            "Collecting onnxruntime (from rembg)\n",
            "  Downloading onnxruntime-1.19.2-cp310-cp310-manylinux_2_27_x86_64.manylinux_2_28_x86_64.whl.metadata (4.5 kB)\n",
            "Requirement already satisfied: opencv-python-headless in /usr/local/lib/python3.10/dist-packages (from rembg) (4.10.0.84)\n",
            "Requirement already satisfied: pillow in /usr/local/lib/python3.10/dist-packages (from rembg) (9.4.0)\n",
            "Requirement already satisfied: pooch in /usr/local/lib/python3.10/dist-packages (from rembg) (1.8.2)\n",
            "Collecting pymatting (from rembg)\n",
            "  Downloading PyMatting-1.1.12-py3-none-any.whl.metadata (7.4 kB)\n",
            "Requirement already satisfied: scikit-image in /usr/local/lib/python3.10/dist-packages (from rembg) (0.23.2)\n",
            "Requirement already satisfied: scipy in /usr/local/lib/python3.10/dist-packages (from rembg) (1.13.1)\n",
            "Requirement already satisfied: tqdm in /usr/local/lib/python3.10/dist-packages (from rembg) (4.66.5)\n",
            "Requirement already satisfied: attrs>=22.2.0 in /usr/local/lib/python3.10/dist-packages (from jsonschema->rembg) (24.2.0)\n",
            "Requirement already satisfied: jsonschema-specifications>=2023.03.6 in /usr/local/lib/python3.10/dist-packages (from jsonschema->rembg) (2023.12.1)\n",
            "Requirement already satisfied: referencing>=0.28.4 in /usr/local/lib/python3.10/dist-packages (from jsonschema->rembg) (0.35.1)\n",
            "Requirement already satisfied: rpds-py>=0.7.1 in /usr/local/lib/python3.10/dist-packages (from jsonschema->rembg) (0.20.0)\n",
            "Collecting coloredlogs (from onnxruntime->rembg)\n",
            "  Downloading coloredlogs-15.0.1-py2.py3-none-any.whl.metadata (12 kB)\n",
            "Requirement already satisfied: flatbuffers in /usr/local/lib/python3.10/dist-packages (from onnxruntime->rembg) (24.3.25)\n",
            "Requirement already satisfied: packaging in /usr/local/lib/python3.10/dist-packages (from onnxruntime->rembg) (24.1)\n",
            "Requirement already satisfied: protobuf in /usr/local/lib/python3.10/dist-packages (from onnxruntime->rembg) (3.20.3)\n",
            "Requirement already satisfied: sympy in /usr/local/lib/python3.10/dist-packages (from onnxruntime->rembg) (1.13.2)\n",
            "Requirement already satisfied: platformdirs>=2.5.0 in /usr/local/lib/python3.10/dist-packages (from pooch->rembg) (4.3.2)\n",
            "Requirement already satisfied: requests>=2.19.0 in /usr/local/lib/python3.10/dist-packages (from pooch->rembg) (2.32.3)\n",
            "Requirement already satisfied: numba!=0.49.0 in /usr/local/lib/python3.10/dist-packages (from pymatting->rembg) (0.60.0)\n",
            "Requirement already satisfied: networkx>=2.8 in /usr/local/lib/python3.10/dist-packages (from scikit-image->rembg) (3.3)\n",
            "Requirement already satisfied: imageio>=2.33 in /usr/local/lib/python3.10/dist-packages (from scikit-image->rembg) (2.34.2)\n",
            "Requirement already satisfied: tifffile>=2022.8.12 in /usr/local/lib/python3.10/dist-packages (from scikit-image->rembg) (2024.8.30)\n",
            "Requirement already satisfied: lazy-loader>=0.4 in /usr/local/lib/python3.10/dist-packages (from scikit-image->rembg) (0.4)\n",
            "Requirement already satisfied: llvmlite<0.44,>=0.43.0dev0 in /usr/local/lib/python3.10/dist-packages (from numba!=0.49.0->pymatting->rembg) (0.43.0)\n",
            "Requirement already satisfied: charset-normalizer<4,>=2 in /usr/local/lib/python3.10/dist-packages (from requests>=2.19.0->pooch->rembg) (3.3.2)\n",
            "Requirement already satisfied: idna<4,>=2.5 in /usr/local/lib/python3.10/dist-packages (from requests>=2.19.0->pooch->rembg) (3.8)\n",
            "Requirement already satisfied: urllib3<3,>=1.21.1 in /usr/local/lib/python3.10/dist-packages (from requests>=2.19.0->pooch->rembg) (2.0.7)\n",
            "Requirement already satisfied: certifi>=2017.4.17 in /usr/local/lib/python3.10/dist-packages (from requests>=2.19.0->pooch->rembg) (2024.8.30)\n",
            "Collecting humanfriendly>=9.1 (from coloredlogs->onnxruntime->rembg)\n",
            "  Downloading humanfriendly-10.0-py2.py3-none-any.whl.metadata (9.2 kB)\n",
            "Requirement already satisfied: mpmath<1.4,>=1.1.0 in /usr/local/lib/python3.10/dist-packages (from sympy->onnxruntime->rembg) (1.3.0)\n",
            "Downloading rembg-2.0.59-py3-none-any.whl (39 kB)\n",
            "Downloading onnxruntime-1.19.2-cp310-cp310-manylinux_2_27_x86_64.manylinux_2_28_x86_64.whl (13.2 MB)\n",
            "\u001b[2K   \u001b[90m━━━━━━━━━━━━━━━━━━━━━━━━━━━━━━━━━━━━━━━━\u001b[0m \u001b[32m13.2/13.2 MB\u001b[0m \u001b[31m26.2 MB/s\u001b[0m eta \u001b[36m0:00:00\u001b[0m\n",
            "\u001b[?25hDownloading PyMatting-1.1.12-py3-none-any.whl (52 kB)\n",
            "\u001b[2K   \u001b[90m━━━━━━━━━━━━━━━━━━━━━━━━━━━━━━━━━━━━━━━━\u001b[0m \u001b[32m53.0/53.0 kB\u001b[0m \u001b[31m3.1 MB/s\u001b[0m eta \u001b[36m0:00:00\u001b[0m\n",
            "\u001b[?25hDownloading coloredlogs-15.0.1-py2.py3-none-any.whl (46 kB)\n",
            "\u001b[2K   \u001b[90m━━━━━━━━━━━━━━━━━━━━━━━━━━━━━━━━━━━━━━━━\u001b[0m \u001b[32m46.0/46.0 kB\u001b[0m \u001b[31m924.6 kB/s\u001b[0m eta \u001b[36m0:00:00\u001b[0m\n",
            "\u001b[?25hDownloading humanfriendly-10.0-py2.py3-none-any.whl (86 kB)\n",
            "\u001b[2K   \u001b[90m━━━━━━━━━━━━━━━━━━━━━━━━━━━━━━━━━━━━━━━━\u001b[0m \u001b[32m86.8/86.8 kB\u001b[0m \u001b[31m4.6 MB/s\u001b[0m eta \u001b[36m0:00:00\u001b[0m\n",
            "\u001b[?25hInstalling collected packages: humanfriendly, pymatting, coloredlogs, onnxruntime, rembg\n",
            "Successfully installed coloredlogs-15.0.1 humanfriendly-10.0 onnxruntime-1.19.2 pymatting-1.1.12 rembg-2.0.59\n"
          ]
        }
      ]
    },
    {
      "cell_type": "code",
      "execution_count": 7,
      "metadata": {
        "colab": {
          "base_uri": "https://localhost:8080/"
        },
        "id": "0bWfpqoJXdei",
        "outputId": "80a60f3e-1c59-4fbc-f127-305bedd9e81b"
      },
      "outputs": [
        {
          "output_type": "stream",
          "name": "stdout",
          "text": [
            "Writing app.py\n"
          ]
        }
      ],
      "source": [
        "%%writefile app.py\n",
        "\n",
        "import io\n",
        "import zipfile\n",
        "from pathlib import Path\n",
        "import streamlit as st\n",
        "from PIL import Image\n",
        "from rembg import remove\n",
        "import uuid\n",
        "\n",
        "MAX_FILES = 5\n",
        "ALLOWED_TYPES = [\"png\", \"jpg\", \"jpeg\"]\n",
        "\n",
        "\n",
        "def setup_page():\n",
        "    \"\"\"Sets up the Streamlit page configuration.\"\"\"\n",
        "    st.set_page_config(page_title=\"Background Remover\", page_icon=\"✂️\")\n",
        "    hide_streamlit_style()\n",
        "\n",
        "\n",
        "def hide_streamlit_style():\n",
        "    \"\"\"Hides default Streamlit styling.\"\"\"\n",
        "    st.markdown(\n",
        "        \"<style>footer {visibility: hidden;} #MainMenu {visibility: hidden;}</style>\",\n",
        "        unsafe_allow_html=True,\n",
        "    )\n",
        "\n",
        "\n",
        "def initialize_session():\n",
        "    \"\"\"Initializes a unique session ID.\"\"\"\n",
        "    if \"uploader_key\" not in st.session_state:\n",
        "        st.session_state[\"uploader_key\"] = str(uuid.uuid4())\n",
        "\n",
        "\n",
        "def display_ui():\n",
        "    \"\"\"Displays the user interface for file upload and returns uploaded files.\"\"\"\n",
        "    st.sidebar.markdown(\"## Image Background Remover\")\n",
        "\n",
        "    uploaded_files = st.sidebar.file_uploader(\n",
        "        \"Choose images\",\n",
        "        type=ALLOWED_TYPES,\n",
        "        accept_multiple_files=True,\n",
        "        key=st.session_state.get(\"uploader_key\", \"file_uploader\"),\n",
        "    )\n",
        "\n",
        "    display_footer()\n",
        "    return uploaded_files\n",
        "\n",
        "\n",
        "def display_footer():\n",
        "    \"\"\"Displays a custom footer.\"\"\"\n",
        "    footer = \"\"\"<div style=\"position: fixed; bottom: 0; left: 20px;\">\n",
        "                <p>App Developed by <a href=\"https://github.com/ArraAkshaya\" target=\"_blank\">@ArraAkshaya</a></p>\n",
        "                </div>\"\"\"\n",
        "    st.sidebar.markdown(footer, unsafe_allow_html=True)\n",
        "\n",
        "\n",
        "def process_and_display_images(uploaded_files):\n",
        "    \"\"\"Processes the uploaded files and displays the original and result images.\"\"\"\n",
        "    if not uploaded_files:\n",
        "        st.warning(\"Please upload an image.\")\n",
        "        return\n",
        "\n",
        "    if not st.sidebar.button(\"Remove Background\"):\n",
        "        return\n",
        "\n",
        "    if len(uploaded_files) > MAX_FILES:\n",
        "        st.warning(f\"Maximum {MAX_FILES} files will be processed.\")\n",
        "        uploaded_files = uploaded_files[:MAX_FILES]\n",
        "\n",
        "    results = []\n",
        "\n",
        "    with st.spinner(\"Removing backgrounds...\"):\n",
        "        for uploaded_file in uploaded_files:\n",
        "            original_image = Image.open(uploaded_file).convert(\"RGBA\")\n",
        "            result_image = remove_background(uploaded_file.getvalue())\n",
        "            results.append((original_image, result_image, uploaded_file.name))\n",
        "\n",
        "    for original, result, name in results:\n",
        "        col1, col2 = st.columns(2)\n",
        "        with col1:\n",
        "            st.image(original, caption=\"Original\")\n",
        "        with col2:\n",
        "            st.image(result, caption=\"Result\")\n",
        "\n",
        "    if len(results) > 1:\n",
        "        download_zip(results)\n",
        "    else:\n",
        "        download_result(results[0])\n",
        "\n",
        "\n",
        "def remove_background(image_bytes):\n",
        "    \"\"\"Removes the background from an image.\"\"\"\n",
        "    result = remove(image_bytes)\n",
        "    return Image.open(io.BytesIO(result)).convert(\"RGBA\")\n",
        "\n",
        "\n",
        "def img_to_bytes(img):\n",
        "    \"\"\"Converts an Image object to bytes.\"\"\"\n",
        "    buf = io.BytesIO()\n",
        "    img.save(buf, format=\"PNG\")\n",
        "    return buf.getvalue()\n",
        "\n",
        "\n",
        "def download_result(image):\n",
        "    \"\"\"Allows the user to download the result image.\"\"\"\n",
        "    _, result, name = image\n",
        "    st.download_button(\n",
        "        label=\"Download Result\",\n",
        "        data=img_to_bytes(result),\n",
        "        file_name=f\"{Path(name).stem}_nobg.png\",\n",
        "        mime=\"image/png\",\n",
        "    )\n",
        "\n",
        "\n",
        "def download_zip(images):\n",
        "    \"\"\"Allows the user to download results as a ZIP file.\"\"\"\n",
        "    zip_buffer = io.BytesIO()\n",
        "    with zipfile.ZipFile(zip_buffer, \"w\", zipfile.ZIP_DEFLATED) as zip_file:\n",
        "        for _, image, name in images:\n",
        "            image_bytes = img_to_bytes(image)\n",
        "            zip_file.writestr(f\"{Path(name).stem}_nobg.png\", image_bytes)\n",
        "\n",
        "    st.download_button(\n",
        "        label=\"Download All as ZIP\",\n",
        "        data=zip_buffer.getvalue(),\n",
        "        file_name=\"background_removed_images.zip\",\n",
        "        mime=\"application/zip\",\n",
        "    )\n",
        "\n",
        "\n",
        "def main():\n",
        "    setup_page()\n",
        "    initialize_session()\n",
        "    uploaded_files = display_ui()\n",
        "    process_and_display_images(uploaded_files)\n",
        "\n",
        "\n",
        "if __name__ == \"__main__\":\n",
        "    main()"
      ]
    },
    {
      "cell_type": "code",
      "source": [
        "!npm install localtunnel"
      ],
      "metadata": {
        "colab": {
          "base_uri": "https://localhost:8080/"
        },
        "id": "L7g0UiwBZX1v",
        "outputId": "ad258531-f5ca-4d9a-a775-72bcfb5520b3"
      },
      "execution_count": 8,
      "outputs": [
        {
          "output_type": "stream",
          "name": "stdout",
          "text": [
            "\u001b[K\u001b[?25h\n",
            "added 22 packages, and audited 23 packages in 2s\n",
            "\n",
            "3 packages are looking for funding\n",
            "  run `npm fund` for details\n",
            "\n",
            "2 \u001b[33m\u001b[1mmoderate\u001b[22m\u001b[39m severity vulnerabilities\n",
            "\n",
            "To address all issues, run:\n",
            "  npm audit fix\n",
            "\n",
            "Run `npm audit` for details.\n"
          ]
        }
      ]
    },
    {
      "cell_type": "code",
      "source": [
        "!streamlit run app.py &>/content/logs.txt &"
      ],
      "metadata": {
        "id": "8kURv-_FZZPX"
      },
      "execution_count": 12,
      "outputs": []
    },
    {
      "cell_type": "code",
      "source": [
        "import urllib\n",
        "print(\"Password/Enpoint IP for localtunnel is:\",urllib.request.urlopen('https://ipv4.icanhazip.com').read().decode('utf8').strip(\"\\n\"))"
      ],
      "metadata": {
        "colab": {
          "base_uri": "https://localhost:8080/"
        },
        "id": "ab4rp7DGa09g",
        "outputId": "ef5ce728-ba86-4feb-91e0-06b5ed047ef9"
      },
      "execution_count": 11,
      "outputs": [
        {
          "output_type": "stream",
          "name": "stdout",
          "text": [
            "Password/Enpoint IP for localtunnel is: 35.231.84.197\n"
          ]
        }
      ]
    },
    {
      "cell_type": "code",
      "source": [
        "!npx localtunnel --port 8501"
      ],
      "metadata": {
        "colab": {
          "base_uri": "https://localhost:8080/"
        },
        "id": "6cHLkrfaZdq7",
        "outputId": "9f867b83-46a0-417f-856c-afa2d1027338"
      },
      "execution_count": null,
      "outputs": [
        {
          "output_type": "stream",
          "name": "stdout",
          "text": [
            "your url is: https://large-bananas-sell.loca.lt\n"
          ]
        }
      ]
    }
  ]
}